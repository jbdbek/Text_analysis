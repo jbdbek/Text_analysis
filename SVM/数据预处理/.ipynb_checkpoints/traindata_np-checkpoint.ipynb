{
 "cells": [
  {
   "cell_type": "code",
   "execution_count": 1,
   "id": "2e91fcf7-e821-4554-9e0f-309a5d7ac8ec",
   "metadata": {},
   "outputs": [],
   "source": [
    "import csv"
   ]
  },
  {
   "cell_type": "markdown",
   "id": "dbd0b8c3-73f7-48e8-b3a0-a75498a22260",
   "metadata": {},
   "source": [
    "增加标签0(消极)/1(积极)，得到训练集数据"
   ]
  },
  {
   "cell_type": "code",
   "execution_count": 4,
   "id": "56c6b720-cc1a-45fb-8fba-424e9bc31bc7",
   "metadata": {},
   "outputs": [],
   "source": [
    "def merge_datasets(positive_file, negative_file, output_file):\n",
    "    with open(positive_file, 'r', encoding='utf-8') as pos_file, \\\n",
    "         open(negative_file, 'r', encoding='utf-8') as neg_file, \\\n",
    "         open(output_file, 'w', encoding='utf-8', newline='') as out_file:\n",
    "        \n",
    "        writer = csv.writer(out_file)\n",
    "        writer.writerow(['ID', 'Content', 'Label'])  # 写入表头\n",
    "            \n",
    "        # 处理积极评论，标签为 1\n",
    "        pos_reader = csv.reader(pos_file)\n",
    "        next(pos_reader)  # 跳过表头\n",
    "        for row in pos_reader:\n",
    "            writer.writerow([row[0], row[1], 1])  # 添加标签为 1 \n",
    "\n",
    "        # 处理消极评论，标签为 0\n",
    "        neg_reader = csv.reader(neg_file)\n",
    "        next(neg_reader)  # 跳过表头\n",
    "        for row in neg_reader:\n",
    "            writer.writerow([row[0], row[1], 0])  # 添加标签为 0\n",
    "       \n",
    "    print(f\"数据集已合并到 {output_file}\")"
   ]
  },
  {
   "cell_type": "code",
   "execution_count": 3,
   "id": "49a831a2-38db-4eaf-8657-fcc658eece36",
   "metadata": {},
   "outputs": [
    {
     "name": "stdout",
     "output_type": "stream",
     "text": [
      "数据集已合并到 ./out/train_data/cn_sample_data/sample.csv\n"
     ]
    }
   ],
   "source": [
    "positive_file = './out/train_data/cn_sample_data/sample.positive.csv'\n",
    "negative_file = './out/train_data/cn_sample_data/sample.negative.csv'\n",
    "output_file = './out/train_data/cn_sample_data/sample.csv'\n",
    "merge_datasets(positive_file, negative_file, output_file)"
   ]
  },
  {
   "cell_type": "code",
   "execution_count": null,
   "id": "116f1588-cfd1-493b-92d0-32148cc0b0e6",
   "metadata": {},
   "outputs": [],
   "source": []
  }
 ],
 "metadata": {
  "kernelspec": {
   "display_name": "Python 3 (ipykernel)",
   "language": "python",
   "name": "python3"
  },
  "language_info": {
   "codemirror_mode": {
    "name": "ipython",
    "version": 3
   },
   "file_extension": ".py",
   "mimetype": "text/x-python",
   "name": "python",
   "nbconvert_exporter": "python",
   "pygments_lexer": "ipython3",
   "version": "3.9.20"
  }
 },
 "nbformat": 4,
 "nbformat_minor": 5
}

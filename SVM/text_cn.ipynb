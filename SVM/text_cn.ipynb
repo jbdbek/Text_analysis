{
 "cells": [
  {
   "cell_type": "code",
   "execution_count": 2,
   "id": "19f497e9-d997-413f-bb2e-8e0e31039c59",
   "metadata": {},
   "outputs": [],
   "source": [
    "import re\n",
    "import torch\n",
    "import jieba\n",
    "import numpy as np\n",
    "import pandas as pd\n",
    "from sklearn.svm import SVC\n",
    "from joblib import dump, load\n",
    "from gensim.models import KeyedVectors\n",
    "from sklearn.metrics import f1_score\n",
    "from sklearn.metrics import recall_score\n",
    "from sklearn.metrics import precision_score\n",
    "from sklearn.metrics import accuracy_score\n",
    "from sklearn.linear_model import LogisticRegression"
   ]
  },
  {
   "cell_type": "code",
   "execution_count": 9,
   "id": "3e015749-2ee8-4277-bb22-b9175e03abc2",
   "metadata": {},
   "outputs": [
    {
     "name": "stderr",
     "output_type": "stream",
     "text": [
      "Building prefix dict from the default dictionary ...\n",
      "Loading model from cache C:\\Users\\ADMINI~1\\AppData\\Local\\Temp\\jieba.cache\n",
      "Loading model cost 1.565 seconds.\n",
      "Prefix dict has been built successfully.\n"
     ]
    },
    {
     "name": "stdout",
     "output_type": "stream",
     "text": [
      "加载预训练词向量: ./zhwiki_word2vec.vector\n",
      "未登录词数量: 3369/27742\n"
     ]
    }
   ],
   "source": [
    "#训练和测试数据预处理\n",
    "stop_words_file_path = './cn_stopwords.txt'\n",
    "trainfile_path = \"./数据预处理/out/train_data/cn_sample_data/sample.csv\"\n",
    "testfile_path = \"./数据预处理/out/test_label_data/test.label.cn.csv\"\n",
    "\n",
    "#加载数据\n",
    "train_data, train_labels = read_csv_data(trainfile_path, True)\n",
    "test_data, test_labels = read_csv_data(testfile_path, False)\n",
    "\n",
    "#分词\n",
    "train_tokens = chinese_tokenize(train_data)\n",
    "test_tokens = chinese_tokenize(test_data)\n",
    "\n",
    "#构建词汇表（用于词向量加载）\n",
    "all_tokens = [token for sentence in train_tokens for token in sentence]\n",
    "vocab = list(set(all_tokens))\n",
    "\n",
    "#加载预训练词向量\n",
    "embed_size = 300\n",
    "embedding_path = \"./zhwiki_word2vec.vector\"\n",
    "embedding_matrix, word_vectors = load_custom_embeddings(vocab, embed_size, embedding_path)"
   ]
  },
  {
   "cell_type": "code",
   "execution_count": 3,
   "id": "5dbbda76-c61a-4861-90b2-6ac78ff57d22",
   "metadata": {},
   "outputs": [],
   "source": [
    "#加载停用词\n",
    "def load_stop_words(file_path):\n",
    "    with open(file_path, 'r', encoding='utf-8') as f:\n",
    "        return set(f.read().splitlines())"
   ]
  },
  {
   "cell_type": "code",
   "execution_count": 4,
   "id": "f3f555b0-af5a-4f83-871d-76b1ef420294",
   "metadata": {},
   "outputs": [],
   "source": [
    "#中文分词\n",
    "def chinese_tokenize(datas):\n",
    "    stop_words = load_stop_words(stop_words_file_path)\n",
    "    tokenized_datas = []\n",
    "    for data in datas:\n",
    "        tokens = list(jieba.cut(data))\n",
    "        filtered_tokens = [token for token in tokens if token not in stop_words and re.match(r'[\\u4e00-\\u9fa5]', token)]\n",
    "        tokenized_datas.append(filtered_tokens)\n",
    "    return tokenized_datas"
   ]
  },
  {
   "cell_type": "code",
   "execution_count": 5,
   "id": "a0369a34-fb34-4311-8ec3-5a59289b6cb6",
   "metadata": {},
   "outputs": [],
   "source": [
    "#从CSV文件加载数据\n",
    "def read_csv_data(filepath, is_train=True):\n",
    "    import pandas as pd\n",
    "    df = pd.read_csv(filepath)\n",
    "    texts = df['Content'].tolist()\n",
    "    labels = df['Label'].tolist() if is_train else None\n",
    "    return texts, labels"
   ]
  },
  {
   "cell_type": "code",
   "execution_count": 6,
   "id": "f4d429c0-ba43-4781-a0bb-d090ad8002ba",
   "metadata": {},
   "outputs": [],
   "source": [
    "#加载词向量\n",
    "def load_custom_embeddings(vocab, embed_size, embedding_path):\n",
    "    embeddings = np.random.uniform(-0.1, 0.1, (len(vocab), embed_size))\n",
    "    print(f\"加载预训练词向量: {embedding_path}\")\n",
    "    word_vectors = KeyedVectors.load_word2vec_format(embedding_path, binary=False)\n",
    "    oov_count = 0\n",
    "    for i, token in enumerate(vocab):\n",
    "        if token in word_vectors:\n",
    "            embeddings[i] = word_vectors[token]\n",
    "        else:\n",
    "            oov_count += 1\n",
    "    print(f\"未登录词数量: {oov_count}/{len(vocab)}\")\n",
    "    return embeddings, word_vectors"
   ]
  },
  {
   "cell_type": "code",
   "execution_count": 7,
   "id": "4475b18d-b296-41ee-a1fd-af3f7c6a4b07",
   "metadata": {},
   "outputs": [],
   "source": [
    "def save_model(net, model_path):\n",
    "    torch.save(net.state_dict(), model_path)\n",
    "    print(f\"模型已保存到 {model_path}\")"
   ]
  },
  {
   "cell_type": "code",
   "execution_count": 8,
   "id": "a773300c-3439-4295-a8a0-251def7b2dba",
   "metadata": {},
   "outputs": [],
   "source": [
    "def load_model(model_path, net):\n",
    "    net.load_state_dict(torch.load(model_path, map_location=d2l.try_gpu()))\n",
    "    net.eval()\n",
    "    print(f\"模型已从 {model_path} 加载\")"
   ]
  },
  {
   "cell_type": "code",
   "execution_count": 10,
   "id": "2e4d602f-a57c-48f5-a61a-ca0d3f1e42b5",
   "metadata": {},
   "outputs": [],
   "source": [
    "#将句子转换为特征表示\n",
    "def sentence_to_features(sentences, word_vectors, embed_size):\n",
    "    features = []\n",
    "    for tokens in sentences:\n",
    "        sentence_vecs = []\n",
    "        for token in tokens:\n",
    "            if token in word_vectors:\n",
    "                sentence_vecs.append(word_vectors[token])\n",
    "        if sentence_vecs:\n",
    "            #计算句子的平均词向量\n",
    "            sentence_feature = np.mean(sentence_vecs, axis=0)\n",
    "        else:\n",
    "            #若无有效词，使用零向量\n",
    "            sentence_feature = np.zeros(embed_size)\n",
    "        features.append(sentence_feature)\n",
    "    return np.array(features)"
   ]
  },
  {
   "cell_type": "code",
   "execution_count": 11,
   "id": "4b46fc69-0d1f-424a-97a5-298b4d9d4205",
   "metadata": {},
   "outputs": [],
   "source": [
    "def evaluate_predictions(true_csv, pred_csv):\n",
    "    true_df = pd.read_csv(true_csv)\n",
    "    pred_df = pd.read_csv(pred_csv)\n",
    "    #在ID列上进行合并 (inner join: 只保留两个表都出现的ID)\n",
    "    merged_df = pd.merge(true_df, pred_df, on='ID')\n",
    "    #统一Lable的格式：positive：1；nagetive：0\n",
    "    #检查预测值是否需要映射\n",
    "    def sentiment_to_label(x):\n",
    "        if isinstance(x, str):  #如果是字符串类型，进行映射\n",
    "            if x.lower() == 'positive':\n",
    "                return 1\n",
    "            else:\n",
    "                return 0\n",
    "        return x  #如果已经是整数，则直接返回  \n",
    "    merged_df['pred_label'] = merged_df['Prediction'].apply(sentiment_to_label)\n",
    "    #计算准确率\n",
    "    correct = (merged_df['pred_label'] == merged_df['Label']).sum()\n",
    "    accuracy = correct / len(merged_df)\n",
    "    print(f\"Total samples: {len(merged_df)}\")\n",
    "    print(f\"Accuracy: {accuracy:.4f}\")\n",
    "    precision = precision_score(merged_df['Label'], merged_df['pred_label'])\n",
    "    print(f\"Precision: {precision:.4f}\")\n",
    "    recall = recall_score(merged_df['Label'], merged_df['pred_label'])\n",
    "    print(f\"Recall:    {recall:.4f}\")\n",
    "    f1 = f1_score(merged_df['Label'], merged_df['pred_label'])\n",
    "    print(f\"F1-Score:  {f1:.4f}\")"
   ]
  },
  {
   "cell_type": "code",
   "execution_count": 12,
   "id": "2273f9dc-7c64-435f-a016-c7a8614bcb33",
   "metadata": {},
   "outputs": [
    {
     "name": "stdout",
     "output_type": "stream",
     "text": [
      "开始训练模型...\n",
      "模型训练完成！\n",
      "模型已保存到 trained_svm_model.joblib\n",
      "加载模型进行测试...\n",
      "模型加载完成！\n",
      "预测完成！\n"
     ]
    }
   ],
   "source": [
    "#生成训练和测试特征\n",
    "train_features = sentence_to_features(train_tokens, word_vectors, embed_size)\n",
    "test_features = sentence_to_features(test_tokens, word_vectors, embed_size)\n",
    "\n",
    "#使用SVM进行训练\n",
    "print(\"开始训练模型...\")\n",
    "svm_model = SVC(kernel='linear', C=1)\n",
    "svm_model.fit(train_features, train_labels)\n",
    "print(\"模型训练完成！\")\n",
    "model_path = \"trained_svm_model.joblib\"\n",
    "dump(svm_model, model_path)\n",
    "print(f\"模型已保存到 {model_path}\")\n",
    "#加载测试模型\n",
    "print(\"加载模型进行测试...\")\n",
    "svm_model_loaded = load(model_path)\n",
    "print(\"模型加载完成！\")\n",
    "#测试\n",
    "test_predictions = svm_model_loaded.predict(test_features)\n",
    "print(\"预测完成！\")"
   ]
  },
  {
   "cell_type": "code",
   "execution_count": 15,
   "id": "dafcf457-b4be-4979-9e92-f1409454be70",
   "metadata": {},
   "outputs": [
    {
     "name": "stdout",
     "output_type": "stream",
     "text": [
      "Best parameters: {'kernel': 'rbf', 'gamma': 'scale', 'C': 1}\n",
      "Best cross-validation score: 0.751\n",
      "模型已保存到 trained_svm_model_with_random_search.joblib\n",
      "加载模型进行测试...\n",
      "模型加载完成！\n",
      "预测完成！\n"
     ]
    }
   ],
   "source": [
    "from sklearn.model_selection import RandomizedSearchCV\n",
    "from sklearn.svm import SVC\n",
    "from joblib import dump, load\n",
    "from sklearn.metrics import accuracy_score, f1_score, fbeta_score\n",
    "\n",
    "#生成训练和测试特征\n",
    "train_features = sentence_to_features(train_tokens, word_vectors, embed_size)\n",
    "test_features = sentence_to_features(test_tokens, word_vectors, embed_size)\n",
    "\n",
    "#定义超参数搜索范围\n",
    "param_dist = {\n",
    "    'C': [0.1, 1, 10],\n",
    "    'gamma': ['scale', 'auto'],\n",
    "    'kernel': ['linear', 'rbf'],\n",
    "}\n",
    "\n",
    "#使用随机搜索进行超参数调优\n",
    "random_search = RandomizedSearchCV(SVC(), param_dist, n_iter=10, cv=10, scoring='accuracy', random_state=42)\n",
    "random_search.fit(train_features, train_labels)\n",
    "\n",
    "#输出最优参数和得分\n",
    "print(\"Best parameters:\", random_search.best_params_)\n",
    "print(\"Best cross-validation score:\", random_search.best_score_)\n",
    "\n",
    "#使用最佳参数训练最终模型\n",
    "best_svm_model = random_search.best_estimator_\n",
    "\n",
    "#保存训练好的模型\n",
    "model_path = \"trained_svm_model_with_random_search.joblib\"\n",
    "dump(best_svm_model, model_path)\n",
    "print(f\"模型已保存到 {model_path}\")\n",
    "\n",
    "#加载最佳模型\n",
    "print(\"加载模型进行测试...\")\n",
    "svm_model_loaded = load(model_path)\n",
    "print(\"模型加载完成！\")\n",
    "\n",
    "#测试\n",
    "test_predictions = svm_model_loaded.predict(test_features)\n",
    "print(\"预测完成！\")"
   ]
  },
  {
   "cell_type": "code",
   "execution_count": 16,
   "id": "410f1901-cc5d-48f5-aa6e-62e2769595bd",
   "metadata": {},
   "outputs": [
    {
     "name": "stdout",
     "output_type": "stream",
     "text": [
      "开始进行网格搜索进行超参数调优...\n",
      "Best parameters: {'C': 1, 'gamma': 'scale', 'kernel': 'rbf'}\n",
      "Best cross-validation score: 0.7490999999999999\n",
      "模型已保存到 trained_svm_model_with_grid_search.joblib\n",
      "加载模型进行测试...\n",
      "模型加载完成！\n",
      "预测完成！\n"
     ]
    }
   ],
   "source": [
    "from sklearn.model_selection import GridSearchCV\n",
    "from sklearn.svm import SVC\n",
    "from joblib import dump, load\n",
    "from sklearn.metrics import accuracy_score\n",
    "\n",
    "#生成训练和测试特征\n",
    "train_features = sentence_to_features(train_tokens, word_vectors, embed_size)\n",
    "test_features = sentence_to_features(test_tokens, word_vectors, embed_size)\n",
    "\n",
    "#定义参数网格\n",
    "param_grid = {\n",
    "    'C': [0.1, 1, 10],\n",
    "    'gamma': ['scale', 'auto'],\n",
    "    'kernel': ['linear', 'rbf'],\n",
    "}\n",
    "\n",
    "#使用网格搜索进行交叉验证\n",
    "print(\"开始进行网格搜索进行超参数调优...\")\n",
    "grid_search = GridSearchCV(SVC(), param_grid, cv=5, scoring='accuracy')\n",
    "grid_search.fit(train_features, train_labels)\n",
    "\n",
    "#输出最优参数和得分\n",
    "print(\"Best parameters:\", grid_search.best_params_)\n",
    "print(\"Best cross-validation score:\", grid_search.best_score_)\n",
    "\n",
    "#使用最佳参数训练最终模型\n",
    "best_svm_model = grid_search.best_estimator_\n",
    "\n",
    "#保存训练好的模型\n",
    "model_path = \"trained_svm_model_with_grid_search.joblib\"\n",
    "dump(best_svm_model, model_path)\n",
    "print(f\"模型已保存到 {model_path}\")\n",
    "\n",
    "#加载最佳模型\n",
    "print(\"加载模型进行测试...\")\n",
    "svm_model_loaded = load(model_path)\n",
    "print(\"模型加载完成！\")\n",
    "\n",
    "#测试\n",
    "test_predictions = svm_model_loaded.predict(test_features)\n",
    "print(\"预测完成！\")\n"
   ]
  },
  {
   "cell_type": "code",
   "execution_count": 17,
   "id": "e9235edf-a7a6-4198-b55b-8295335192bb",
   "metadata": {},
   "outputs": [
    {
     "name": "stdout",
     "output_type": "stream",
     "text": [
      "预测结果已保存到 cn_predictions.csv\n",
      "Total samples: 2500\n",
      "Accuracy: 0.7472\n",
      "Precision: 0.7460\n",
      "Recall:    0.7496\n",
      "F1-Score:  0.7478\n"
     ]
    }
   ],
   "source": [
    "#将预测结果保存为文件\n",
    "output_file_path = \"cn_predictions.csv\"\n",
    "ids = range(0, len(test_predictions) )  #生成 ID，从1到n\n",
    "predictions_df = pd.DataFrame({'ID': ids, 'Prediction': test_predictions})\n",
    "#保存为CSV文件\n",
    "predictions_df.to_csv(output_file_path, index=False)\n",
    "print(f\"预测结果已保存到 {output_file_path}\")\n",
    "evaluate_predictions(testfile_path, 'cn_predictions.csv')"
   ]
  },
  {
   "cell_type": "code",
   "execution_count": 25,
   "id": "0a633916-5222-4fc4-bce8-e39ec5b0ab88",
   "metadata": {},
   "outputs": [
    {
     "data": {
      "image/png": "[encoded data removed]",
      "text/plain": [
       "<Figure size 1200x600 with 2 Axes>"
      ]
     },
     "metadata": {},
     "output_type": "display_data"
    }
   ],
   "source": [
    "import matplotlib.pyplot as plt\n",
    "from sklearn.metrics import roc_curve, auc, precision_recall_curve, average_precision_score\n",
    "\n",
    "#预测概率（SVM需要用`decision_function`或`predict_proba`）\n",
    "#对于SVC，使用decision_function获取决策函数的输出\n",
    "test_probabilities = best_svm_model.predict_proba(test_features)[:, 1]\n",
    "\n",
    "#计算ROC数据\n",
    "fpr, tpr, thresholds = roc_curve(test_labels, test_probabilities)\n",
    "roc_auc = auc(fpr, tpr)\n",
    "\n",
    "#计算Precision-Recall曲线\n",
    "precision, recall, _ = precision_recall_curve(test_labels, test_probabilities)\n",
    "average_precision = average_precision_score(test_labels, test_probabilities)\n",
    "\n",
    "#绘制ROC曲线\n",
    "plt.figure(figsize=(12, 6))\n",
    "\n",
    "#ROC曲线\n",
    "plt.subplot(1, 2, 1)\n",
    "plt.plot(fpr, tpr, color='darkorange', lw=2, label=f'ROC curve (AUC = {roc_auc:.2f})')\n",
    "plt.plot([0, 1], [0, 1], color='navy', lw=2, linestyle='--')\n",
    "plt.xlim([0.0, 1.0])\n",
    "plt.ylim([0.0, 1.05])\n",
    "plt.xlabel('False Positive Rate')\n",
    "plt.ylabel('True Positive Rate')\n",
    "plt.title('Receiver Operating Characteristic')\n",
    "plt.legend(loc=\"lower right\")\n",
    "\n",
    "#Precision-Recall曲线\n",
    "plt.subplot(1, 2, 2)\n",
    "plt.plot(recall, precision, color='b', lw=2, label=f'Precision-Recall curve (AP = {average_precision:.2f})')\n",
    "plt.xlabel('Recall')\n",
    "plt.ylabel('Precision')\n",
    "plt.title('Precision-Recall Curve')\n",
    "plt.legend(loc=\"lower left\")\n",
    "plt.tight_layout()\n",
    "plt.show()"
   ]
  }
 ],
 "metadata": {
  "kernelspec": {
   "display_name": "Python 3 (ipykernel)",
   "language": "python",
   "name": "python3"
  },
  "language_info": {
   "codemirror_mode": {
    "name": "ipython",
    "version": 3
   },
   "file_extension": ".py",
   "mimetype": "text/x-python",
   "name": "python",
   "nbconvert_exporter": "python",
   "pygments_lexer": "ipython3",
   "version": "3.9.20"
  }
 },
 "nbformat": 4,
 "nbformat_minor": 5
}

{
 "cells": [
  {
   "cell_type": "code",
   "execution_count": 1,
   "id": "9782db3e-94b6-410f-97df-332b8c07047d",
   "metadata": {
    "scrolled": true
   },
   "outputs": [],
   "source": [
    "import re\n",
    "import pandas as pd\n",
    "import os\n",
    "import csv\n",
    "from utils.configs import txt_to_csv_path"
   ]
  },
  {
   "cell_type": "markdown",
   "id": "5324a48f-1314-44f4-9b92-f9e94bf485a5",
   "metadata": {},
   "source": [
    "读取文件清洗数据，转换为csv文件"
   ]
  },
  {
   "cell_type": "code",
   "execution_count": 2,
   "id": "daa10616-92b2-4dc2-9b8b-281e265af7ea",
   "metadata": {},
   "outputs": [],
   "source": [
    "def data_processing(input_file, output_file):\n",
    "    data=[]\n",
    "    review_id = None\n",
    "    review_content = []    \n",
    "    with open(input_file, 'r', encoding='utf-8') as file:\n",
    "        for line in file:\n",
    "            line = line.strip()                                                #去除行首尾空白字符\n",
    "            match = re.match(r'<review id=\"(\\d+)\">', line)                     #检查是否是评论ID行（开始标签）\n",
    "            if match:\n",
    "                if review_id and review_content:                               #如果当前有未保存的评论，保存当前评论\n",
    "                    data.append({'ID': review_id, 'Content': ''.join(review_content).strip()})\n",
    "                review_id = match.group(1)                                     #提取新的评论ID并开始新评论\n",
    "                review_content = []                                            #重置评论内容\n",
    "\n",
    "            elif line.startswith('</review>'):\n",
    "                if review_id and review_content:                               #评论结束，保存当前评论\n",
    "                    data.append({'ID': review_id, 'Content': ''.join(review_content).strip()})\n",
    "                review_id = None\n",
    "                review_content = []\n",
    "            else:\n",
    "                if review_id:                                                  #累积评论内容\n",
    "                    review_content.append(line)\n",
    "    if review_id and review_content:                                           #保存最后一个评论（防止文件结束时遗漏）\n",
    "        data.append({'ID': review_id, 'Content': ''.join(review_content).strip()})\n",
    "    \n",
    "    df = pd.DataFrame(data)                                                    #将其他类型的数据结构转换为Pandas DataFrame\n",
    "    df.to_csv(output_file, index=False, encoding='utf-8')                      #将其保存为 CSV 文件"
   ]
  },
  {
   "cell_type": "code",
   "execution_count": 3,
   "id": "64d2fb14-1eca-4268-b258-d835a05facb3",
   "metadata": {},
   "outputs": [],
   "source": [
    "def labeldata_processing(input_file, output_file):\n",
    "    data = []\n",
    "    review_id = None\n",
    "    review_content = []\n",
    "    review_label = None\n",
    "    \n",
    "    try:                                                                       #尝试以utf-8编码打开文件，如果失败则使用其他编码\n",
    "        with open(input_file, 'r', encoding='utf-8') as file:\n",
    "            for line in file:\n",
    "                line = line.strip()                                            #去除行首尾空白字符\n",
    "                match = re.match(r'<review id=\"(\\d+)\"\\s+label=\"(\\d)\">', line)  # 检查是否是评论ID行（开始标签）\n",
    "                if match:\n",
    "                    if review_id and review_content:                           #如果当前有未保存的评论，保存当前评论\n",
    "                        data.append({'ID': review_id, 'Content': ''.join(review_content).strip(), 'Label': review_label})\n",
    "                    review_id = match.group(1)                                 #提取新的评论ID并开始新评论\n",
    "                    review_label = int(match.group(2))\n",
    "                    review_content = []                                        #重置评论内容\n",
    "                elif line.startswith('</review>'):\n",
    "                    if review_id and review_content:                           #评论结束，保存当前评论\n",
    "                        data.append({'ID': review_id, 'Content': ''.join(review_content).strip(), 'Label': review_label})\n",
    "                    review_id = None\n",
    "                    review_content = []\n",
    "                    review_label = None\n",
    "                else:\n",
    "                    if review_id:                                              #累积评论内容\n",
    "                        review_content.append(line)\n",
    "        if review_id and review_content:                                       #保存最后一个评论（防止文件结束时遗漏）\n",
    "            data.append({'ID': review_id, 'Content': ''.join(review_content).strip(), 'Label': review_label})\n",
    "    \n",
    "    except UnicodeDecodeError:                                                #如果文件编码是UTF-8失败，尝试使用其他编码\n",
    "        print(f\"Error decoding file with utf-8, trying ISO-8859-1 encoding...\")\n",
    "        with open(input_file, 'r', encoding='ISO-8859-1') as file:\n",
    "            for line in file:\n",
    "                line = line.strip()\n",
    "                match = re.match(r'<review id=\"(\\d+)\"\\s+label=\"(\\d)\">', line)\n",
    "                if match:\n",
    "                    if review_id and review_content:\n",
    "                        data.append({'ID': review_id, 'Content': ''.join(review_content).strip(), 'Label': review_label})\n",
    "                    review_id = match.group(1)\n",
    "                    review_label = int(match.group(2))\n",
    "                    review_content = []\n",
    "                elif line.startswith('</review>'):\n",
    "                    if review_id and review_content:\n",
    "                        data.append({'ID': review_id, 'Content': ''.join(review_content).strip(), 'Label': review_label})\n",
    "                    review_id = None\n",
    "                    review_content = []\n",
    "                    review_label = None\n",
    "                else:\n",
    "                    if review_id:\n",
    "                        review_content.append(line)\n",
    "        if review_id and review_content:\n",
    "            data.append({'ID': review_id, 'Content': ''.join(review_content).strip(), 'Label': review_label})\n",
    "    \n",
    "    df = pd.DataFrame(data)\n",
    "    df.to_csv(output_file, index=False, encoding='utf-8')                     #将数据保存为 CSV 文件\n",
    "    print(f\"Data has been saved to {output_file}\")"
   ]
  },
  {
   "cell_type": "markdown",
   "id": "8cdc2f9b-3b9e-41af-a1dd-ec9553013edf",
   "metadata": {},
   "source": [
    "增加标签0(消极)/1(积极)，得到训练集数据"
   ]
  },
  {
   "cell_type": "code",
   "execution_count": 4,
   "id": "43acc5a9-15ad-404c-a75d-355966dd63bf",
   "metadata": {},
   "outputs": [],
   "source": [
    "def merge_datasets(positive_file, negative_file, output_file):\n",
    "    with open(positive_file, 'r', encoding='utf-8') as pos_file, \\\n",
    "         open(negative_file, 'r', encoding='utf-8') as neg_file, \\\n",
    "         open(output_file, 'w', encoding='utf-8', newline='') as out_file: \n",
    "        writer = csv.writer(out_file)\n",
    "        writer.writerow(['ID', 'Content', 'Label'])                           #写入表头\n",
    "        \n",
    "        pos_reader = csv.reader(pos_file)                                     #处理积极评论，标签为1\n",
    "        next(pos_reader)                                                      #跳过表头\n",
    "        for row in pos_reader:\n",
    "            writer.writerow([row[0], row[1], 1])                              #添加标签为 1 \n",
    "        \n",
    "        neg_reader = csv.reader(neg_file)                                     #处理消极评论，标签为0\n",
    "        next(neg_reader)\n",
    "        for row in neg_reader:\n",
    "            writer.writerow([row[0], row[1], 0])                              #添加标签为 0      \n",
    "    print(f\"数据集已合并到 {output_file}\")"
   ]
  },
  {
   "cell_type": "code",
   "execution_count": 5,
   "id": "6bbc1a28-f8ec-4729-b792-5c58567c55c6",
   "metadata": {},
   "outputs": [
    {
     "name": "stdout",
     "output_type": "stream",
     "text": [
      "Data has been saved to ./out\\test_label_data\\test.label.cn.csv\n",
      "Error decoding file with utf-8, trying ISO-8859-1 encoding...\n",
      "Data has been saved to ./out\\test_label_data\\test.label.en.csv\n",
      "数据集已合并到 ./out/train_data/cn_sample_data/sample.csv\n",
      "数据集已合并到 ./out/train_data/en_sample_data/sample.csv\n",
      "Data has been saved to ./out\\train_data\\cn_sample_data\\sample.negative.csv\n",
      "Data has been saved to ./out\\train_data\\cn_sample_data\\sample.positive.csv\n",
      "Data has been saved to ./out\\train_data\\en_sample_data\\sample.negative.csv\n",
      "Data has been saved to ./out\\train_data\\en_sample_data\\sample.positive.csv\n",
      "Data has been saved to ./out\\test_label_data\\test.label.cn.csv\n",
      "Data has been saved to ./out\\test_label_data\\test.label.en.csv\n"
     ]
    }
   ],
   "source": [
    "input_file_1 = './data/train_data/cn_sample_data/sample.negative.txt'\n",
    "input_file_2 = './data/train_data/cn_sample_data/sample.positive.txt'\n",
    "input_file_3 = './data/train_data/en_sample_data/sample.negative.txt'\n",
    "input_file_4 = './data/train_data/en_sample_data/sample.positive.txt'\n",
    "input_file_5 = './data/test_label_data/test.label.cn.txt'\n",
    "input_file_6 = './data/test_label_data/test.label.en.txt'\n",
    "output_file_1 = txt_to_csv_path(input_file_1)\n",
    "output_file_2 = txt_to_csv_path(input_file_2)\n",
    "output_file_3 = txt_to_csv_path(input_file_3)\n",
    "output_file_4 = txt_to_csv_path(input_file_4)\n",
    "output_file_5 = txt_to_csv_path(input_file_5)\n",
    "output_file_6 = txt_to_csv_path(input_file_6)\n",
    "output_file_7 = './out/train_data/cn_sample_data/sample.csv'\n",
    "output_file_8 = './out/train_data/en_sample_data/sample.csv'\n",
    "data_processing(input_file_1, output_file_1)\n",
    "data_processing(input_file_2, output_file_2)\n",
    "data_processing(input_file_3, output_file_3)\n",
    "data_processing(input_file_4, output_file_4)\n",
    "labeldata_processing(input_file_5, output_file_5)\n",
    "labeldata_processing(input_file_6, output_file_6)\n",
    "merge_datasets(output_file_2, output_file_1, output_file_7)\n",
    "merge_datasets(output_file_4, output_file_3, output_file_8)\n",
    "print(f'Data has been saved to {output_file_1}')\n",
    "print(f'Data has been saved to {output_file_2}')\n",
    "print(f'Data has been saved to {output_file_3}')\n",
    "print(f'Data has been saved to {output_file_4}')\n",
    "print(f'Data has been saved to {output_file_5}')\n",
    "print(f'Data has been saved to {output_file_6}')"
   ]
  },
  {
   "cell_type": "code",
   "execution_count": null,
   "id": "4775e6dd-63c5-468f-8fd2-3a0f8628da26",
   "metadata": {},
   "outputs": [],
   "source": []
  }
 ],
 "metadata": {
  "kernelspec": {
   "display_name": "Python 3 (ipykernel)",
   "language": "python",
   "name": "python3"
  },
  "language_info": {
   "codemirror_mode": {
    "name": "ipython",
    "version": 3
   },
   "file_extension": ".py",
   "mimetype": "text/x-python",
   "name": "python",
   "nbconvert_exporter": "python",
   "pygments_lexer": "ipython3",
   "version": "3.9.20"
  }
 },
 "nbformat": 4,
 "nbformat_minor": 5
}
